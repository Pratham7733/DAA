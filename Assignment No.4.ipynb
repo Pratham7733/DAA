{
 "cells": [
  {
   "cell_type": "markdown",
   "id": "f51f43f4",
   "metadata": {},
   "source": [
    "# COBB059 PHULE PRATHAMESH DNYANDEV\n",
    "# ASSIGNMENT NO.4"
   ]
  },
  {
   "cell_type": "code",
   "execution_count": null,
   "id": "7ee0391b",
   "metadata": {},
   "outputs": [
    {
     "name": "stdout",
     "output_type": "stream",
     "text": [
      "Press Ctrl+C to terminate...\n",
      "Enter number of items: 4\n",
      "Enter values of items:12 45 60 13\n",
      "Enter weights of items:5 3 2 10\n",
      "Enter maximum weight: 22\n",
      "The maximum value of items that can be carried: 130\n",
      "Press Ctrl+C to terminate...\n"
     ]
    }
   ],
   "source": [
    "def knapsack(values,weights,capacity):\n",
    "    dp = [[0 for i in range(capacity+1)] for j in range(len(values)+1)]\n",
    "    \n",
    "    for item in range(1,len(values) + 1):\n",
    "        for weight in range(1,capacity + 1):\n",
    "            if weights[item - 1] <= weight:\n",
    "                dp[item][weight] = max(dp[item-1][weight-weights[item-1]]+values[item-1],dp[item-1][weight])\n",
    "            else:\n",
    "                dp[item][weight] = dp[item-1][weight]\n",
    "    return dp[-1][-1]\n",
    "\n",
    "while True:\n",
    "    print(\"Press Ctrl+C to terminate...\")\n",
    "    n = int(input('Enter number of items: '))\n",
    "    values = [int(i) for i in input(\"Enter values of items:\").split(\" \")]\n",
    "    weights = [int(i) for i in input(\"Enter weights of items:\").split(\" \")]\n",
    "    capacity = int(input(\"Enter maximum weight: \"))\n",
    "    maximum_value = knapsack(values,weights,capacity)\n",
    "    print('The maximum value of items that can be carried:', maximum_value)\n"
   ]
  },
  {
   "cell_type": "code",
   "execution_count": null,
   "id": "1968d725",
   "metadata": {},
   "outputs": [],
   "source": []
  }
 ],
 "metadata": {
  "kernelspec": {
   "display_name": "Python 3 (ipykernel)",
   "language": "python",
   "name": "python3"
  },
  "language_info": {
   "codemirror_mode": {
    "name": "ipython",
    "version": 3
   },
   "file_extension": ".py",
   "mimetype": "text/x-python",
   "name": "python",
   "nbconvert_exporter": "python",
   "pygments_lexer": "ipython3",
   "version": "3.9.13"
  }
 },
 "nbformat": 4,
 "nbformat_minor": 5
}
