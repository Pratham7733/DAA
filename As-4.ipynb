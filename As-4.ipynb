{
 "cells": [
  {
   "cell_type": "markdown",
   "id": "ed3bd85e",
   "metadata": {},
   "source": [
    "# COBB059 PHULE PRATHAMESH DNYANDEV\n",
    "# ASSIGNMENT NO.4"
   ]
  },
  {
   "cell_type": "code",
   "execution_count": 3,
   "id": "72773d40",
   "metadata": {},
   "outputs": [
    {
     "name": "stdout",
     "output_type": "stream",
     "text": [
      "The maximum value of items that can be carried: 6\n"
     ]
    }
   ],
   "source": [
    "def solve_knapsack():\n",
    "    val=[2,3,4,1] #value array\n",
    "    wt=[3,4,5,6] # Weight array\n",
    "    W=8\n",
    "    n=len(val) - 1\n",
    "    def knapsack(W,n): # (Remaining Weight, Number of items checked)\n",
    "        #base case\n",
    "        if n<0 or W<=0:\n",
    "            return 0\n",
    "        \n",
    "        #Higher weight than available\n",
    "        if wt[n]>W:\n",
    "            return knapsack(W, n-1)\n",
    "        \n",
    "        else:\n",
    "            return max(val[n] + knapsack(W-wt[n],n-1),knapsack(W,n-1))\n",
    "            # max(including , not including)\n",
    "    print('The maximum value of items that can be carried:',knapsack(W,n))\n",
    "\n",
    "if __name__==\"__main__\":\n",
    "    solve_knapsack()"
   ]
  },
  {
   "cell_type": "code",
   "execution_count": null,
   "id": "8c665488",
   "metadata": {},
   "outputs": [],
   "source": []
  }
 ],
 "metadata": {
  "kernelspec": {
   "display_name": "Python 3 (ipykernel)",
   "language": "python",
   "name": "python3"
  },
  "language_info": {
   "codemirror_mode": {
    "name": "ipython",
    "version": 3
   },
   "file_extension": ".py",
   "mimetype": "text/x-python",
   "name": "python",
   "nbconvert_exporter": "python",
   "pygments_lexer": "ipython3",
   "version": "3.9.13"
  }
 },
 "nbformat": 4,
 "nbformat_minor": 5
}
